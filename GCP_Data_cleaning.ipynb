{
 "cells": [
  {
   "cell_type": "code",
   "execution_count": 24,
   "id": "757a3f4c-94b6-4f81-96eb-a57d31bc831c",
   "metadata": {},
   "outputs": [],
   "source": [
    "import os\n",
    "import sys\n",
    "import datetime\n",
    "import numpy as np\n",
    "import pandas as pd\n",
    "import seaborn as sns\n",
    "import scipy.stats as stats\n",
    "import matplotlib.pyplot as plt\n",
    "\n",
    "pd.options.display.max_columns = 500"
   ]
  },
  {
   "cell_type": "code",
   "execution_count": 2,
   "id": "e0c21a89-ed3d-4827-a841-0e9e5b2c7135",
   "metadata": {},
   "outputs": [
    {
     "data": {
      "application/vnd.jupyter.widget-view+json": {
       "model_id": "dbbb6994f26b43e284b4db1c8d1cd3b7",
       "version_major": 2,
       "version_minor": 0
      },
      "text/plain": [
       "Query is running:   0%|          |"
      ]
     },
     "metadata": {},
     "output_type": "display_data"
    },
    {
     "data": {
      "application/vnd.jupyter.widget-view+json": {
       "model_id": "0409138cf16a4cde8fab154c969824a6",
       "version_major": 2,
       "version_minor": 0
      },
      "text/plain": [
       "Downloading:   0%|          |"
      ]
     },
     "metadata": {},
     "output_type": "display_data"
    }
   ],
   "source": [
    "%%bigquery neighborhoods\n",
    "SELECT * FROM `test-vertex-ai-386413.HousePricePrediction.LegendaNeighborhoods`"
   ]
  },
  {
   "cell_type": "code",
   "execution_count": 3,
   "id": "683e2ef5-63c5-4e41-8d26-6d12d06ffb25",
   "metadata": {},
   "outputs": [
    {
     "data": {
      "application/vnd.jupyter.widget-view+json": {
       "model_id": "829d7d23c38447a6bedc134fbf16804f",
       "version_major": 2,
       "version_minor": 0
      },
      "text/plain": [
       "Query is running:   0%|          |"
      ]
     },
     "metadata": {},
     "output_type": "display_data"
    },
    {
     "data": {
      "application/vnd.jupyter.widget-view+json": {
       "model_id": "d42011bdfc244955a2d0e7cfbc9dbfc5",
       "version_major": 2,
       "version_minor": 0
      },
      "text/plain": [
       "Downloading:   0%|          |"
      ]
     },
     "metadata": {},
     "output_type": "display_data"
    }
   ],
   "source": [
    "%%bigquery prices\n",
    "WITH subq1 AS\n",
    "  (SELECT\n",
    "    CASE\n",
    "      WHEN BOROUGH = 1 THEN \"MANHATTAN\"\n",
    "      WHEN BOROUGH = 2 THEN \"BRONX\"\n",
    "      WHEN BOROUGH = 3 THEN \"BROOKLYN\"\n",
    "      WHEN BOROUGH = 4 THEN \"QUEENS\"\n",
    "      WHEN BOROUGH = 5 THEN \"STATEN ISLAND\"\n",
    "      END AS BOROUGH,\n",
    "    CASE\n",
    "      WHEN NEIGHBORHOOD = 'FLATBUSH-CENTRAL' THEN 'FLATBUSH'\n",
    "      WHEN NEIGHBORHOOD = 'FLATBUSH-EAST' THEN 'FLATBUSH'\n",
    "      WHEN NEIGHBORHOOD = 'FLATBUSH-LEFFERTS GARDEN' THEN 'FLATBUSH'\n",
    "      WHEN NEIGHBORHOOD = 'FLATBUSH-NORTH' THEN 'FLATBUSH'\n",
    "      WHEN NEIGHBORHOOD = 'DONGAN HILLS-COLONY' THEN 'DONGAN HILLS'\n",
    "      WHEN NEIGHBORHOOD = 'DONGAN HILLS-OLD TOWN' THEN 'DONGAN HILLS'\n",
    "      WHEN NEIGHBORHOOD = 'FLUSHING-NORTH' THEN 'FLUSHING'\n",
    "      WHEN NEIGHBORHOOD = 'FLUSHING-SOUTH' THEN 'FLUSHING'\n",
    "      WHEN NEIGHBORHOOD = 'GREENWICH VILLAGE-CENTRAL' THEN 'GREENWICH VILLAGE'\n",
    "      WHEN NEIGHBORHOOD = 'GREENWICH VILLAGE-WEST' THEN 'GREENWICH VILLAGE'\n",
    "      WHEN NEIGHBORHOOD = 'HARLEM-CENTRAL' THEN 'HARLEM'\n",
    "      WHEN NEIGHBORHOOD = 'HARLEM-EAST' THEN 'HARLEM'\n",
    "      WHEN NEIGHBORHOOD = 'HARLEM-UPPER' THEN 'HARLEM'\n",
    "      WHEN NEIGHBORHOOD = 'HARLEM-WEST' THEN 'HARLEM'\n",
    "      WHEN NEIGHBORHOOD = 'KINGSBRIDGE HTS/UNIV HTS' THEN 'UNIVERSITY HEIGHTS'\n",
    "      WHEN NEIGHBORHOOD = 'KINGSBRIDGE/JEROME PARK' THEN 'KINGSBRIDGE'\n",
    "      WHEN NEIGHBORHOOD = 'MIDTOWN CBD' THEN 'MIDTOWN'\n",
    "      WHEN NEIGHBORHOOD = 'MIDTOWN EAST' THEN 'MIDTOWN'\n",
    "      WHEN NEIGHBORHOOD = 'MIDTOWN WEST' THEN 'MIDTOWN'\n",
    "      WHEN NEIGHBORHOOD = 'NEW DORP-BEACH' THEN 'NEW DORP'\n",
    "      WHEN NEIGHBORHOOD = 'NEW DORP-HEIGHTS' THEN 'NEW DORP'\n",
    "      WHEN NEIGHBORHOOD = 'UPPER EAST SIDE (59-79)' THEN 'UPPER EAST SIDE'\n",
    "      WHEN NEIGHBORHOOD = 'UPPER EAST SIDE (79-96)' THEN 'UPPER EAST SIDE'\n",
    "      WHEN NEIGHBORHOOD = 'UPPER EAST SIDE (96-110)' THEN 'UPPER EAST SIDE'\n",
    "      WHEN NEIGHBORHOOD = 'UPPER WEST SIDE (59-79)' THEN 'UPPER WEST SIDE'\n",
    "      WHEN NEIGHBORHOOD = 'UPPER WEST SIDE (79-96)' THEN 'UPPER WEST SIDE'\n",
    "      WHEN NEIGHBORHOOD = 'UPPER WEST SIDE (96-110)' THEN 'UPPER WEST SIDE'\n",
    "      WHEN NEIGHBORHOOD = 'UPPER WEST SIDE (96-116)' THEN 'UPPER WEST SIDE'\n",
    "      WHEN NEIGHBORHOOD = 'WASHINGTON HEIGHTS LOWER' THEN 'WASHINGTON HEIGHTS'\n",
    "      WHEN NEIGHBORHOOD = 'WASHINGTON HEIGHTS UPPER' THEN 'WASHINGTON HEIGHTS'\n",
    "      WHEN NEIGHBORHOOD = 'WILLIAMSBURG-CENTRAL' THEN 'WILLIAMSBURG'\n",
    "      WHEN NEIGHBORHOOD = 'WILLIAMSBURG-EAST' THEN 'WILLIAMSBURG'\n",
    "      WHEN NEIGHBORHOOD = 'WILLIAMSBURG-NORTH' THEN 'WILLIAMSBURG'\n",
    "      WHEN NEIGHBORHOOD = 'WILLIAMSBURG-SOUTH' THEN 'WILLIAMSBURG'\n",
    "      WHEN NEIGHBORHOOD = 'SOUTH JAMAICA' THEN 'JAMAICA'\n",
    "      WHEN NEIGHBORHOOD = 'JAMAICA BAY' THEN 'JAMAICA'\n",
    "      WHEN NEIGHBORHOOD = 'SO. JAMAICA-BAISLEY PARK' THEN 'JAMAICA'\n",
    "      WHEN NEIGHBORHOOD = 'GREAT KILLS' THEN 'GREAT KILLS-BAY TERRACE'\n",
    "      WHEN NEIGHBORHOOD = 'PARK SLOPE SOUTH' THEN 'PARK SLOPE'\n",
    "      WHEN NEIGHBORHOOD = 'CLINTON' THEN 'CLINTON HILL'\n",
    "      ELSE NEIGHBORHOOD\n",
    "      END AS NEIGHBORHOOD,\n",
    "    TRIM(BUILDING_CLASS_CATEGORY) AS BUILDING_CLASS_CATEGORY,\n",
    "    TAX_CLASS_AT_PRESENT,\n",
    "    BLOCK,\n",
    "    LOT,\n",
    "    ADDRESS,\n",
    "    APARTMENT_NUMBER,\n",
    "    CAST(ZIP_CODE AS STRING) AS ZIP_CODE,\n",
    "    RESIDENTIAL_UNITS,\n",
    "    COMMERCIAL_UNITS,\n",
    "    TOTAL_UNITS,\n",
    "    CASE\n",
    "      WHEN LAND_SQUARE_FEET = ' -  ' THEN NULL\n",
    "      ELSE LAND_SQUARE_FEET\n",
    "      END AS LAND_SQUARE_FEET,\n",
    "    CASE\n",
    "      WHEN GROSS_SQUARE_FEET = ' -  ' THEN NULL\n",
    "      ELSE GROSS_SQUARE_FEET\n",
    "      END AS GROSS_SQUARE_FEET,\n",
    "    YEAR_BUILT,\n",
    "    TAX_CLASS_AT_TIME_OF_SALE,\n",
    "    BUILDING_CLASS_AT_TIME_OF_SALE,  \n",
    "    SALE_PRICE/1000000 AS SALE_PRICE,\n",
    "    SALE_DATE,\n",
    "    EXTRACT(YEAR FROM PARSE_DATETIME(\"%Y-%m-%d %H:%M:%S\", SALE_DATE)) AS SALE_YEAR,\n",
    "    CASE\n",
    "      WHEN EXTRACT(MONTH FROM PARSE_DATETIME(\"%Y-%m-%d %H:%M:%S\", SALE_DATE)) = 1 THEN \"JAN\"\n",
    "      WHEN EXTRACT(MONTH FROM PARSE_DATETIME(\"%Y-%m-%d %H:%M:%S\", SALE_DATE)) = 2 THEN \"FEB\"\n",
    "      WHEN EXTRACT(MONTH FROM PARSE_DATETIME(\"%Y-%m-%d %H:%M:%S\", SALE_DATE)) = 3 THEN \"MAR\"\n",
    "      WHEN EXTRACT(MONTH FROM PARSE_DATETIME(\"%Y-%m-%d %H:%M:%S\", SALE_DATE)) = 4 THEN \"APR\"\n",
    "      WHEN EXTRACT(MONTH FROM PARSE_DATETIME(\"%Y-%m-%d %H:%M:%S\", SALE_DATE)) = 5 THEN \"MAY\"\n",
    "      WHEN EXTRACT(MONTH FROM PARSE_DATETIME(\"%Y-%m-%d %H:%M:%S\", SALE_DATE)) = 6 THEN \"JUN\"\n",
    "      WHEN EXTRACT(MONTH FROM PARSE_DATETIME(\"%Y-%m-%d %H:%M:%S\", SALE_DATE)) = 7 THEN \"JUL\"\n",
    "      WHEN EXTRACT(MONTH FROM PARSE_DATETIME(\"%Y-%m-%d %H:%M:%S\", SALE_DATE)) = 8 THEN \"AUG\"\n",
    "      WHEN EXTRACT(MONTH FROM PARSE_DATETIME(\"%Y-%m-%d %H:%M:%S\", SALE_DATE)) = 9 THEN \"SEP\"\n",
    "      WHEN EXTRACT(MONTH FROM PARSE_DATETIME(\"%Y-%m-%d %H:%M:%S\", SALE_DATE)) = 10 THEN \"OCT\"\n",
    "      WHEN EXTRACT(MONTH FROM PARSE_DATETIME(\"%Y-%m-%d %H:%M:%S\", SALE_DATE)) = 11 THEN \"NOV\"\n",
    "      WHEN EXTRACT(MONTH FROM PARSE_DATETIME(\"%Y-%m-%d %H:%M:%S\", SALE_DATE)) = 12 THEN \"DEC\"\n",
    "      END AS SALE_MONTH \n",
    "  FROM `test-vertex-ai-386413.HousePricePrediction.NYHousePrices`)\n",
    "SELECT * FROM subq1\n",
    "WHERE\n",
    "  NOT (GROSS_SQUARE_FEET IS NULL AND TOTAL_UNITS = 0) AND\n",
    "  YEAR_BUILT <> 0 AND\n",
    "  LAND_SQUARE_FEET IS NOT NULL AND\n",
    "  GROSS_SQUARE_FEET IS NOT NULL"
   ]
  },
  {
   "cell_type": "code",
   "execution_count": 4,
   "id": "1a63897c-744a-4600-8b17-527a94a4a436",
   "metadata": {},
   "outputs": [
    {
     "data": {
      "application/vnd.jupyter.widget-view+json": {
       "model_id": "08b064605b3a427c9387bfe8969f1249",
       "version_major": 2,
       "version_minor": 0
      },
      "text/plain": [
       "Query is running:   0%|          |"
      ]
     },
     "metadata": {},
     "output_type": "display_data"
    },
    {
     "data": {
      "application/vnd.jupyter.widget-view+json": {
       "model_id": "5b4c94737bbe400683750fad55360099",
       "version_major": 2,
       "version_minor": 0
      },
      "text/plain": [
       "Downloading:   0%|          |"
      ]
     },
     "metadata": {},
     "output_type": "display_data"
    }
   ],
   "source": [
    "%%bigquery airbnb\n",
    "SELECT\n",
    " neighbourhood_group,\n",
    " CASE\n",
    "    WHEN UPPER(neighbourhood) = \"ARROCHAR\" THEN \"ARROCHAR-SHORE ACRES\"\n",
    "    WHEN UPPER(neighbourhood) = \"BATH BEACH\" THEN \"BATHGATE\"\n",
    "    WHEN UPPER(neighbourhood) = \"BEDFORD-STUYVESANT\" THEN \"BEDFORD STUYVESANT\"\n",
    "    WHEN UPPER(neighbourhood) = \"NORWOOD\" THEN \"BEDFORD PARK/NORWOOD\"\n",
    "    WHEN UPPER(neighbourhood) = \"BRONXDALE\" THEN \"BRONX PARK\"\n",
    "    WHEN UPPER(neighbourhood) = \"BULL'S HEAD\" THEN \"BULLS HEAD\"\n",
    "    WHEN UPPER(neighbourhood) = \"CASTLE HILL\" THEN \"CASTLE HILL/UNIONPORT\"\n",
    "    WHEN UPPER(neighbourhood) = \"UNIONPORT\" THEN \"CASTLE HILL/UNIONPORT\"\n",
    "    WHEN UPPER(neighbourhood) = \"CITY ISLAND\" THEN \"CITY ISLAND-PELHAM STRIP\"\n",
    "    WHEN UPPER(neighbourhood) = \"PELHAM GARDENS\" THEN \"CITY ISLAND-PELHAM STRIP\"\n",
    "    WHEN UPPER(neighbourhood) = \"COBBLE HILL\" THEN \"COBBLE HILL-WEST\"\n",
    "    WHEN UPPER(neighbourhood) = \"CONCORD\" THEN \"CONCORD-FOX HILLS\"\n",
    "    WHEN UPPER(neighbourhood) = \"TREMONT\" THEN \"EAST TREMONT\"\n",
    "    WHEN UPPER(neighbourhood) = \"FINANCIAL DISTRICT\" THEN \"FINANCIAL\"\n",
    "    WHEN UPPER(neighbourhood) = \"FLATIRON DISTRICT\" THEN \"FLATIRON\"\n",
    "    WHEN UPPER(neighbourhood) = \"GREAT KILLS\" THEN \"GREAT KILLS-BAY TERRACE\"\n",
    "    WHEN UPPER(neighbourhood) = \"BAY TERRACE\" THEN \"GREAT KILLS-BAY TERRACE\"\n",
    "    WHEN UPPER(neighbourhood) = \"BAY TERRACE, STATEN ISLAND\" THEN \"GREAT KILLS-BAY TERRACE\"\n",
    "    WHEN UPPER(neighbourhood) = \"EAST HARLEM\" THEN \"HARLEM\"\n",
    "    WHEN UPPER(neighbourhood) = \"MORRIS HEIGHTS\" THEN \"HIGHBRIDGE/MORRIS HEIGHTS\"\n",
    "    WHEN UPPER(neighbourhood) = \"HIGHBRIDGE\" THEN \"HIGHBRIDGE/MORRIS HEIGHTS\"\n",
    "    WHEN UPPER(neighbourhood) = \"RANDALL MANOR\" THEN \"MANOR HEIGHTS\"\n",
    "    WHEN UPPER(neighbourhood) = \"MELROSE\" THEN \"MELROSE/CONCOURSE\"\n",
    "    WHEN UPPER(neighbourhood) = 'CONCOURSE' THEN \"MELROSE/CONCOURSE\"\n",
    "    WHEN UPPER(neighbourhood) = 'CONCOURSE VILLAGE' THEN \"MELROSE/CONCOURSE\"\n",
    "    WHEN UPPER(neighbourhood) = 'MORRIS PARK' THEN 'MORRIS PARK/VAN NEST'\n",
    "    WHEN UPPER(neighbourhood) = 'VAN NEST' THEN 'MORRIS PARK/VAN NEST'\n",
    "    WHEN UPPER(neighbourhood) = 'MORRISANIA' THEN 'MORRISANIA/LONGWOOD'\n",
    "    WHEN UPPER(neighbourhood) = 'LONGWOOD' THEN 'MORRISANIA/LONGWOOD'\n",
    "    WHEN UPPER(neighbourhood) = 'EAST MORRISANIA' THEN 'MORRISANIA/LONGWOOD'\n",
    "    WHEN UPPER(neighbourhood) = 'PORT MORRIS' THEN 'MOTT HAVEN/PORT MORRIS'\n",
    "    WHEN UPPER(neighbourhood) = 'MOTT HAVEN' THEN 'MOTT HAVEN/PORT MORRIS'\n",
    "    WHEN UPPER(neighbourhood) = \"MOUNT HOPE\" THEN 'MOUNT HOPE/MOUNT EDEN'\n",
    "    WHEN UPPER(neighbourhood) = \"MOUNT EDEN\" THEN 'MOUNT HOPE/MOUNT EDEN'\n",
    "    WHEN UPPER(neighbourhood) = \"WEST BRIGHTON\" THEN \"WEST NEW BRIGHTON\"\n",
    "    WHEN UPPER(neighbourhood) = \"NEW DORP BEACH\" THEN \"NEW DORP\"\n",
    "    WHEN UPPER(neighbourhood) = \"OAKWOOD\" THEN \"OAKWOOD-BEACH\"\n",
    "    WHEN UPPER(neighbourhood) = \"PELHAM BAY\" THEN \"SCHUYLERVILLE/PELHAM BAY\"\n",
    "    WHEN UPPER(neighbourhood) = \"SCHUYLERVILLE\" THEN \"SCHUYLERVILLE/PELHAM BAY\"\n",
    "    WHEN UPPER(neighbourhood) = \"WESTCHESTER SQUARE\" THEN \"WESTCHESTER\"\n",
    "    WHEN UPPER(neighbourhood) = \"CLIFTON\" THEN \"STAPLETON-CLIFTON\"    \n",
    "    ELSE UPPER(neighbourhood)\n",
    "    END AS neighbourhood,\n",
    "  latitude,\n",
    "  longitude,\n",
    "  room_type,\n",
    "  price,\n",
    "  minimum_nights,\n",
    "  number_of_reviews, \n",
    "  CASE\n",
    "    WHEN reviews_per_month IS NULL THEN 0\n",
    "    ELSE reviews_per_month\n",
    "    END AS reviews_per_month,\n",
    "  calculated_host_listings_count,\n",
    "  availability_365\n",
    "\n",
    "FROM `test-vertex-ai-386413.HousePricePrediction.NYAirbnb`"
   ]
  },
  {
   "cell_type": "code",
   "execution_count": 5,
   "id": "81c8419f-0bdb-4f34-b116-0f428303b95a",
   "metadata": {},
   "outputs": [],
   "source": [
    "####################################################\n",
    "###################### AIRBNB ######################\n",
    "####################################################\n",
    "\n",
    "for c in airbnb.columns:\n",
    "    if airbnb[c].dtype == pd.Int64Dtype():\n",
    "        airbnb[c] = airbnb[c].astype(np.int64)\n",
    "\n",
    "# Geographical data\n",
    "\n",
    "boroughs_geographic = airbnb[[\"neighbourhood_group\", \"latitude\",\n",
    "                              \"longitude\"]].copy()\n",
    "\n",
    "airbnb[\"neighbourhood_group\"] = airbnb[\"neighbourhood_group\"].str.upper()\n",
    "airbnb[\"latitude\"] = pd.cut(airbnb[\"latitude\"], list(np.arange(403, 412, 1)/10))\n",
    "airbnb[\"longitude\"] = pd.cut(airbnb[\"longitude\"], list((-np.arange(736, 744, 1)/10)[::-1]))\n",
    "\n",
    "#### replace zero with mean\n",
    "#airbnb.loc[airbnb[\"availability_365\"] == 0,\n",
    "#           \"availability_365\"] = int(airbnb.loc[airbnb[\"availability_365\"] > 0,\n",
    "#                                                \"availability_365\"].mean())\n",
    "airbnb = airbnb.pivot_table(index = \"neighbourhood\",\n",
    "                            values = list(airbnb.columns[3:]),\n",
    "                            aggfunc = {'room_type': lambda v: stats.mode(v).mode[0],\n",
    "                                       'price': np.mean,\n",
    "                                       'minimum_nights': np.mean,\n",
    "                                       'number_of_reviews': np.mean,\n",
    "                                       'reviews_per_month': np.mean,\n",
    "                                       'calculated_host_listings_count': np.mean,\n",
    "                                       'availability_365': np.mean}).reset_index()"
   ]
  },
  {
   "cell_type": "code",
   "execution_count": 7,
   "id": "e2d64354-ade6-4bc3-b80b-ac555d4cd72d",
   "metadata": {},
   "outputs": [],
   "source": [
    "### JOIN FIRST TWO DATASETS\n",
    "data = prices.merge(airbnb, left_on = \"NEIGHBORHOOD\",\n",
    "                    right_on = \"neighbourhood\", how = \"left\")\n",
    "#data.to_parquet(\"./datapred/data.parquet\")\n",
    "###"
   ]
  },
  {
   "cell_type": "code",
   "execution_count": 8,
   "id": "14a39bc0-e5c3-4a75-8229-96b7e26eb577",
   "metadata": {},
   "outputs": [
    {
     "data": {
      "application/vnd.jupyter.widget-view+json": {
       "model_id": "70ea27a376b249c89f96a20bc1d7a843",
       "version_major": 2,
       "version_minor": 0
      },
      "text/plain": [
       "Query is running:   0%|          |"
      ]
     },
     "metadata": {},
     "output_type": "display_data"
    },
    {
     "data": {
      "application/vnd.jupyter.widget-view+json": {
       "model_id": "c55ad750f58742938fe0a5fdd1b43d5f",
       "version_major": 2,
       "version_minor": 0
      },
      "text/plain": [
       "Downloading:   0%|          |"
      ]
     },
     "metadata": {},
     "output_type": "display_data"
    }
   ],
   "source": [
    "%%bigquery collision\n",
    "WITH subq1 AS\n",
    "  (SELECT\n",
    "    ACCIDENT_DATE,\n",
    "    BOROUGH,\n",
    "    LATITUDE,\n",
    "    LONGITUDE,\n",
    "    CASE\n",
    "      WHEN NUMBER_OF_PERSONS_INJURED IS NULL THEN 0\n",
    "      ELSE NUMBER_OF_PERSONS_INJURED\n",
    "      END AS NUMBER_OF_PERSONS_INJURED,\n",
    "    CASE\n",
    "      WHEN NUMBER_OF_PERSONS_KILLED IS NULL THEN 0\n",
    "      ELSE NUMBER_OF_PERSONS_KILLED\n",
    "      END AS NUMBER_OF_PERSONS_KILLED,\n",
    "    NUMBER_OF_PEDESTRIANS_INJURED,\n",
    "    NUMBER_OF_PEDESTRIANS_KILLED,\n",
    "    NUMBER_OF_CYCLIST_INJURED,\n",
    "    NUMBER_OF_CYCLIST_KILLED,\n",
    "    NUMBER_OF_MOTORIST_INJURED,\n",
    "    NUMBER_OF_MOTORIST_KILLED,\n",
    "    CASE\n",
    "      WHEN VEHICLE_TYPE_CODE_1 IS NULL THEN 0\n",
    "      ELSE 1\n",
    "      END AS VEHICLE_TYPE_CODE_1,\n",
    "    CASE\n",
    "      WHEN VEHICLE_TYPE_CODE_2 IS NULL THEN 0\n",
    "      ELSE 1\n",
    "      END AS VEHICLE_TYPE_CODE_2,\n",
    "    CASE\n",
    "      WHEN VEHICLE_TYPE_CODE_3 IS NULL THEN 0\n",
    "      ELSE 1\n",
    "      END AS VEHICLE_TYPE_CODE_3,\n",
    "    CASE\n",
    "      WHEN VEHICLE_TYPE_CODE_4 IS NULL THEN 0\n",
    "      ELSE 1\n",
    "      END AS VEHICLE_TYPE_CODE_4,\n",
    "    CASE\n",
    "      WHEN VEHICLE_TYPE_CODE_5 IS NULL THEN 0\n",
    "      ELSE 1\n",
    "      END AS VEHICLE_TYPE_CODE_5\n",
    "  FROM `test-vertex-ai-386413.HousePricePrediction.NYCollisionFULL`)\n",
    "SELECT ACCIDENT_DATE,\n",
    "BOROUGH,\n",
    "LATITUDE,\n",
    "LONGITUDE,\n",
    "NUMBER_OF_PERSONS_INJURED,\n",
    "NUMBER_OF_PERSONS_KILLED,\n",
    "NUMBER_OF_PEDESTRIANS_INJURED,\n",
    "NUMBER_OF_PEDESTRIANS_KILLED,\n",
    "NUMBER_OF_CYCLIST_INJURED,\n",
    "NUMBER_OF_CYCLIST_KILLED,\n",
    "NUMBER_OF_MOTORIST_INJURED,\n",
    "NUMBER_OF_MOTORIST_KILLED,\n",
    "VEHICLE_TYPE_CODE_1+VEHICLE_TYPE_CODE_2+VEHICLE_TYPE_CODE_3+VEHICLE_TYPE_CODE_4+VEHICLE_TYPE_CODE_5 AS VEHICLES_INVOLVED\n",
    "FROM subq1"
   ]
  },
  {
   "cell_type": "code",
   "execution_count": 9,
   "id": "a37563cd-706a-4607-875a-f0c08beddfea",
   "metadata": {},
   "outputs": [],
   "source": [
    "#####################################################\n",
    "#################### COLLISIONS #####################\n",
    "#####################################################\n",
    "\n",
    "for c in collision.columns:\n",
    "    if collision[c].dtype == pd.Int64Dtype():\n",
    "        collision[c] = collision[c].astype(np.int64)\n",
    "\n",
    "collision[\"ACCIDENT_DATE\"] = pd.to_datetime(collision[\"ACCIDENT_DATE\"].apply(lambda v:\n",
    "                                                                             v.split(\"T\")[0]\n",
    "                                                                             if isinstance(v, str)\n",
    "                                                                             else v),\n",
    "                                            format = \"%Y-%m-%d\")\n",
    "\n",
    "# FILL SOME VALUES WITH THE CLOSEST BOROUGH ACCORDING TO AVERAGE COORDINATES FROM AIRBNB\n",
    "boroughs_geographic_pivot = boroughs_geographic.pivot_table(index = \"neighbourhood_group\",\n",
    "                                                            values = [\"latitude\", \"longitude\"],\n",
    "                                                            aggfunc = np.mean).reset_index()\n",
    "\n",
    "boroughs_geographic_pivot = boroughs_geographic_pivot.values\n",
    "\n",
    "boroughs_geographic_pivot[:, 1] = boroughs_geographic_pivot[:, 1].astype(np.float64)\n",
    "boroughs_geographic_pivot[:, 2] = boroughs_geographic_pivot[:, 2].astype(np.float64)\n",
    "\n",
    "collision.loc[(collision[\"BOROUGH\"].isnull()) &\n",
    "              (collision[\"LONGITUDE\"].notna()) &\n",
    "              (collision[\"LATITUDE\"].notna()),\n",
    "              \"BOROUGH\"] = collision[(collision[\"BOROUGH\"].isnull()) &\n",
    "                                     (collision[\"LONGITUDE\"].notna()) &\n",
    "                                     (collision[\"LATITUDE\"]\\\n",
    "                                      .notna())].apply(lambda row:\n",
    "                                                       boroughs_geographic_pivot[\\\n",
    "                                                                                 np.sqrt((np.power(boroughs_geographic_pivot[:, 1] -\\\n",
    "                                                                                                   row[\"LATITUDE\"], 2) +\\\n",
    "                                                                                          np.power(boroughs_geographic_pivot[:, 2] -\\\n",
    "                                                                                                   row[\"LONGITUDE\"], 2))\\\n",
    "                                                                                         .astype(np.float64)).argmin(), 0].upper(),\n",
    "                                                       axis = 1)\n",
    "\n",
    "# Drop unknown location & some other columns\n",
    "collision = collision[collision[\"BOROUGH\"].notna()].drop([\"LATITUDE\", \"LONGITUDE\"], axis = 1)"
   ]
  },
  {
   "cell_type": "code",
   "execution_count": 26,
   "id": "2802af57-7fd5-48c4-a3bc-89db0311381a",
   "metadata": {},
   "outputs": [],
   "source": [
    "collision[\"DAY_STAMP\"] = (collision[\"ACCIDENT_DATE\"].dt.year.astype(str) +\\\n",
    "                          collision[\"ACCIDENT_DATE\"].dt.month.apply(lambda v:\n",
    "                                                                    str(v) if v > 9\n",
    "                                                                    else \"0\"+str(v)) +\\\n",
    "                          collision[\"ACCIDENT_DATE\"].dt.day.apply(lambda v:\n",
    "                                                                  str(v) if v > 9\n",
    "                                                                  else \"0\"+str(v))).astype(int)"
   ]
  },
  {
   "cell_type": "code",
   "execution_count": 27,
   "id": "6c82bf70-461f-4bdb-8ebd-162595d98464",
   "metadata": {},
   "outputs": [],
   "source": [
    "collision_np = collision.drop(\"ACCIDENT_DATE\", axis = 1).values"
   ]
  },
  {
   "cell_type": "code",
   "execution_count": 28,
   "id": "20d16e0c-0efa-45dd-be1a-bd35851f6b5b",
   "metadata": {},
   "outputs": [],
   "source": [
    "def custom_pivot(idx):\n",
    "    \n",
    "    dt, brg = tuple(prices.loc[idx, [\"SALE_DATE\", \"BOROUGH\"]])\n",
    "    \n",
    "    get_date = datetime.datetime.strptime(dt, \"%Y-%m-%d %H:%M:%S\")\n",
    "    \n",
    "    get_date = int((str(get_date.year)) +\\\n",
    "                   (str(get_date.month) if get_date.month > 9 else \"0\"+str(get_date.month)) +\\\n",
    "                   (str(get_date.day) if get_date.day > 9 else \"0\"+str(get_date.day)))\n",
    "    # -1: DAY_STAMP\n",
    "    # 0: BOROUGH\n",
    "    data_in = collision_np[(collision_np[:, -1] < get_date) &\n",
    "                           (collision_np[:, 0] == brg)]\n",
    "    #print(\"OK\")\n",
    "    # drop BOROUGH and DAY_STAMP\n",
    "    data_in = data_in[:, 1:-1].astype(np.float32)\n",
    "    \n",
    "    # NUMBER_OF_PERSONS_INJURED\n",
    "    # NUMBER_OF_PERSONS_KILLED\n",
    "    # NUMBER_OF_PEDESTRIANS_INJURED\n",
    "    # NUMBER_OF_PEDESTRIANS_KILLED\n",
    "    # NUMBER_OF_CYCLIST_INJURED\n",
    "    # NUMBER_OF_CYCLIST_KILLED\n",
    "    # NUMBER_OF_MOTORIST_INJURED\n",
    "    # NUMBER_OF_MOTORIST_KILLED\n",
    "    # VEHICLES_INVOLVED\n",
    "    return tuple(np.nanmean(data_in, axis = 0))\n",
    "\n",
    "custom_pivot = np.vectorize(custom_pivot)"
   ]
  },
  {
   "cell_type": "code",
   "execution_count": 29,
   "id": "946145ea-e0a3-40c8-9a95-6730fd2234a8",
   "metadata": {},
   "outputs": [
    {
     "name": "stdout",
     "output_type": "stream",
     "text": [
      "Done\n",
      "Done\n",
      "Done\n",
      "Done\n",
      "Done\n"
     ]
    }
   ],
   "source": [
    "pivoted_data1 = custom_pivot(prices.index[:10000])\n",
    "print(\"Done\")\n",
    "pivoted_data2 = custom_pivot(prices.index[10000:20000])\n",
    "print(\"Done\")\n",
    "pivoted_data3 = custom_pivot(prices.index[20000:30000])\n",
    "print(\"Done\")\n",
    "pivoted_data4 = custom_pivot(prices.index[30000:40000])\n",
    "print(\"Done\")\n",
    "pivoted_data5 = custom_pivot(prices.index[40000:])\n",
    "print(\"Done\")"
   ]
  },
  {
   "cell_type": "code",
   "execution_count": 45,
   "id": "c6a3daee-69aa-47d2-88ae-b156b9e10ae7",
   "metadata": {},
   "outputs": [],
   "source": [
    "pivoted_data_all = np.vstack((np.array(pivoted_data1).T, np.array(pivoted_data2).T,\n",
    "                              np.array(pivoted_data3).T, np.array(pivoted_data4).T,\n",
    "                              np.array(pivoted_data5).T))"
   ]
  },
  {
   "cell_type": "code",
   "execution_count": 51,
   "id": "e8ee9760-6a03-4174-aa51-60edad1f4742",
   "metadata": {},
   "outputs": [],
   "source": [
    "data_final = pd.concat([data,\n",
    "                        pd.DataFrame(pivoted_data_all,\n",
    "                                     columns = [\"NUMBER_OF_PERSONS_INJURED\",\n",
    "                                                \"NUMBER_OF_PERSONS_KILLED\",\n",
    "                                                \"NUMBER_OF_PEDESTRIANS_INJURED\",\n",
    "                                                \"NUMBER_OF_PEDESTRIANS_KILLED\",\n",
    "                                                \"NUMBER_OF_CYCLIST_INJURED\",\n",
    "                                                \"NUMBER_OF_CYCLIST_KILLED\",\n",
    "                                                \"NUMBER_OF_MOTORIST_INJURED\",\n",
    "                                                \"NUMBER_OF_MOTORIST_KILLED\",\n",
    "                                                \"VEHICLES_INVOLVED\"])], axis = 1)"
   ]
  },
  {
   "cell_type": "code",
   "execution_count": 52,
   "id": "515467b3-b6dc-4c22-b036-c5b06bce7b2e",
   "metadata": {},
   "outputs": [],
   "source": [
    "###\n",
    "data_final.to_parquet(\"./datapred/data.parquet\")\n",
    "###"
   ]
  }
 ],
 "metadata": {
  "environment": {
   "kernel": "python3",
   "name": "common-cpu.m108",
   "type": "gcloud",
   "uri": "gcr.io/deeplearning-platform-release/base-cpu:m108"
  },
  "kernelspec": {
   "display_name": "Python 3",
   "language": "python",
   "name": "python3"
  },
  "language_info": {
   "codemirror_mode": {
    "name": "ipython",
    "version": 3
   },
   "file_extension": ".py",
   "mimetype": "text/x-python",
   "name": "python",
   "nbconvert_exporter": "python",
   "pygments_lexer": "ipython3",
   "version": "3.7.12"
  }
 },
 "nbformat": 4,
 "nbformat_minor": 5
}
