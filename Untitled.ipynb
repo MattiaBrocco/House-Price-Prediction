{
 "cells": [
  {
   "cell_type": "code",
   "execution_count": 1,
   "id": "6c678fa7-c6b1-4829-81a1-b356539ca391",
   "metadata": {},
   "outputs": [],
   "source": [
    "import os\n",
    "import sys\n",
    "import numpy as np\n",
    "import pandas as pd"
   ]
  },
  {
   "cell_type": "code",
   "execution_count": 2,
   "id": "1d7f4515-8c16-4990-8622-59462977a3d1",
   "metadata": {},
   "outputs": [
    {
     "data": {
      "text/plain": [
       "['Cleaner_2.py',\n",
       " 'data',\n",
       " 'README.md',\n",
       " 'Project_LISA.ipynb',\n",
       " '.gitignore',\n",
       " 'Data_cleaner.py',\n",
       " 'LICENSE',\n",
       " 'Clustering_Spatial_Data.ipynb',\n",
       " '.ipynb_checkpoints',\n",
       " 'Untitled.ipynb',\n",
       " 'data2',\n",
       " 'House Price Prediction.ipynb',\n",
       " '.git']"
      ]
     },
     "execution_count": 2,
     "metadata": {},
     "output_type": "execute_result"
    }
   ],
   "source": [
    "os.listdir()"
   ]
  },
  {
   "cell_type": "code",
   "execution_count": 7,
   "id": "f9a40839-6176-4b41-8b03-7ca9f9c10726",
   "metadata": {},
   "outputs": [],
   "source": [
    "data = [pd.read_feather(f\"./data/{x}\")\n",
    "        for x in sorted([f for f in os.listdir(\"./data/\")\n",
    "                         if \"collision\" in f])]"
   ]
  },
  {
   "cell_type": "code",
   "execution_count": 31,
   "id": "eb7a242e-0689-411e-b6d1-c1a004d718f0",
   "metadata": {},
   "outputs": [],
   "source": [
    "for x in sorted([f for f in os.listdir(\"./data/\") if \"collision\" in f]):\n",
    "    iter_df = pd.read_feather(f\"./data/{x}\")\n",
    "    iter_df.to_parquet(\"./data2/{}.parquet\".format(x.split(\".\")[0]))"
   ]
  },
  {
   "cell_type": "code",
   "execution_count": 32,
   "id": "e138efce-2b46-4281-9799-0aa2f6b5920b",
   "metadata": {},
   "outputs": [],
   "source": [
    "airbnb = pd.read_csv(\"./data/NYC_Airbnb_2017.csv\")\n",
    "airbnb.to_parquet(\"./data2/NYC_Airbnb_2017.parquet\")"
   ]
  },
  {
   "cell_type": "code",
   "execution_count": 4,
   "id": "f1bac3f5-d0c3-4368-b215-e296d2f37995",
   "metadata": {},
   "outputs": [],
   "source": [
    "neighborhoods = pd.read_excel(\"./data/NYC_neighborhoods.xlsx\")\n",
    "neighborhoods.to_parquet(\"./data2/NYC_neighborhoods.parquet\")"
   ]
  },
  {
   "cell_type": "code",
   "execution_count": 5,
   "id": "d25edb87-6ec3-4cf1-b185-00bf0c8ec657",
   "metadata": {},
   "outputs": [],
   "source": [
    "houses = pd.read_csv(\"./data/NYC_house_price.csv\")\n",
    "houses.to_parquet(\"./data2/NYC_house_price.parquet\")"
   ]
  },
  {
   "cell_type": "code",
   "execution_count": 6,
   "id": "39ae5792-7c00-4139-bf3f-b47e8adf4f7c",
   "metadata": {},
   "outputs": [],
   "source": [
    "houses = pd.read_parquet(\"./data2/NYC_house_price.parquet\")\n",
    "airbnb = pd.read_parquet(\"./data2/NYC_Airbnb_2017.parquet\")\n",
    "neighborhoods = pd.read_parquet(\"./data2/NYC_neighborhoods.parquet\")"
   ]
  },
  {
   "cell_type": "code",
   "execution_count": 10,
   "id": "016c2c48-95b8-45c7-b4e3-2d5b19bc92cf",
   "metadata": {},
   "outputs": [
    {
     "data": {
      "text/plain": [
       "((254, 3), (48620, 16), (84548, 23))"
      ]
     },
     "execution_count": 10,
     "metadata": {},
     "output_type": "execute_result"
    }
   ],
   "source": [
    "neighborhoods.shape, airbnb.shape, houses.shape"
   ]
  },
  {
   "cell_type": "code",
   "execution_count": 13,
   "id": "cdc9c872-05d8-4d48-8a57-13d72486fa8a",
   "metadata": {},
   "outputs": [],
   "source": [
    "houses.drop([\"Unnamed: 0\",\"Unnamed: 0.1\"],\n",
    "            axis = 1).to_parquet(\"./data2/NYC_house_price.parquet\")"
   ]
  }
 ],
 "metadata": {
  "environment": {
   "kernel": "python3",
   "name": "common-cpu.m108",
   "type": "gcloud",
   "uri": "gcr.io/deeplearning-platform-release/base-cpu:m108"
  },
  "kernelspec": {
   "display_name": "Python 3",
   "language": "python",
   "name": "python3"
  },
  "language_info": {
   "codemirror_mode": {
    "name": "ipython",
    "version": 3
   },
   "file_extension": ".py",
   "mimetype": "text/x-python",
   "name": "python",
   "nbconvert_exporter": "python",
   "pygments_lexer": "ipython3",
   "version": "3.7.12"
  }
 },
 "nbformat": 4,
 "nbformat_minor": 5
}
