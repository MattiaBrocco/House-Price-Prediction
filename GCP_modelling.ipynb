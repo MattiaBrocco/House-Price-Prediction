{
 "cells": [
  {
   "cell_type": "code",
   "execution_count": 184,
   "id": "3c11e901-77dc-43b8-a73d-13a4f0bd2186",
   "metadata": {},
   "outputs": [
    {
     "name": "stdout",
     "output_type": "stream",
     "text": [
      "The autoreload extension is already loaded. To reload it, use:\n",
      "  %reload_ext autoreload\n"
     ]
    }
   ],
   "source": [
    "import os\n",
    "import sys\n",
    "import numpy as np\n",
    "import pandas as pd\n",
    "import seaborn as sns\n",
    "import matplotlib.pyplot as plt\n",
    "\n",
    "pd.options.display.max_columns = 500\n",
    "\n",
    "%load_ext autoreload\n",
    "%autoreload 2"
   ]
  },
  {
   "cell_type": "code",
   "execution_count": 238,
   "id": "0aa0534d-08d4-470f-bd8e-6f3b1697507a",
   "metadata": {},
   "outputs": [],
   "source": [
    "df = pd.read_parquet(\"./datapred/data.parquet\")"
   ]
  },
  {
   "cell_type": "code",
   "execution_count": 239,
   "id": "e8dd40ae-9fc7-49b0-bf92-f5cff4e4a0c8",
   "metadata": {},
   "outputs": [],
   "source": [
    "# Last steps of cleaning\n",
    "df = df.dropna().reset_index(drop = True).drop([\"NEIGHBORHOOD\", \"BUILDING_CLASS_CATEGORY\",\n",
    "                                                \"BLOCK\", \"LOT\", \"ADDRESS\", \"APARTMENT_NUMBER\",\n",
    "                                                \"BUILDING_CLASS_AT_TIME_OF_SALE\", \"SALE_DATE\",\n",
    "                                                \"neighbourhood\"],\n",
    "                                               axis = 1)\n",
    "\n",
    "df = pd.concat([pd.get_dummies(df[\"BOROUGH\"], drop_first = True,\n",
    "                               prefix = \"BOROUGH\"),\n",
    "                df.drop(\"BOROUGH\", axis = 1)], axis = 1)\n",
    "\n",
    "df = pd.concat([df.iloc[:, :4],\n",
    "                pd.get_dummies(df[\"TAX_CLASS_AT_PRESENT\"], drop_first = True,\n",
    "                               prefix = \"TAX_CLASS_AT_PRESENT\"),\n",
    "                df.iloc[:, 5:]], axis = 1)\n",
    "\n",
    "df = pd.concat([df.iloc[:, :12],\n",
    "                pd.get_dummies(df[\"ZIP_CODE\"], drop_first = True,\n",
    "                               prefix = \"ZIP_CODE\"),\n",
    "                df.iloc[:, 13:]], axis = 1)\n",
    "\n",
    "df[\"LAND_SQUARE_FEET\"] = df[\"LAND_SQUARE_FEET\"].astype(int)\n",
    "df[\"GROSS_SQUARE_FEET\"] = df[\"GROSS_SQUARE_FEET\"].astype(int)\n",
    "\n",
    "df = pd.concat([df.iloc[:, :197],\n",
    "                pd.get_dummies(df[\"TAX_CLASS_AT_TIME_OF_SALE\"], drop_first = True,\n",
    "                               prefix = \"TAX_CLASS_AT_TIME_OF_SALE\"),\n",
    "                df.iloc[:, 198:]], axis = 1)\n",
    "\n",
    "df = pd.concat([df.iloc[:, :201],\n",
    "                pd.get_dummies(df[\"SALE_MONTH\"], drop_first = True,\n",
    "                               prefix = \"SALE_MONTH\"),\n",
    "                df.iloc[:, 202:]], axis = 1)\n",
    "\n",
    "df = pd.concat([df.iloc[:, :218],\n",
    "                pd.get_dummies(df[\"room_type\"], drop_first = True,\n",
    "                               prefix = \"room_type\"),\n",
    "                df.iloc[:, 219:]], axis = 1)\n",
    "\n",
    "df.columns = [c.upper().replace(\" \", \"_\") for c in df.columns]\n",
    "\n",
    "\n",
    "df[\"SALE_PRICE\"] = np.log(df[\"SALE_PRICE\"])"
   ]
  },
  {
   "cell_type": "code",
   "execution_count": 315,
   "id": "4e851fd0-d41b-4779-b33f-ac0722a79ca8",
   "metadata": {},
   "outputs": [],
   "source": [
    "from sklearn.linear_model import LassoCV\n",
    "from sklearn.tree import DecisionTreeRegressor\n",
    "from sklearn.preprocessing import StandardScaler\n",
    "from sklearn.model_selection import GridSearchCV\n",
    "from sklearn.model_selection import train_test_split\n",
    "from sklearn.metrics import mean_squared_error, mean_absolute_error\n",
    "from sklearn.metrics import r2_score, mean_absolute_percentage_error\n",
    "\n",
    "# RMK: sale price expressed in M USD"
   ]
  },
  {
   "cell_type": "code",
   "execution_count": 291,
   "id": "0642802f-d4af-452f-a918-233c51d36140",
   "metadata": {},
   "outputs": [],
   "source": [
    "# TRAIN-TEST SPLIT\n",
    "\n",
    "X_train, X_test, y_train, y_test = train_test_split(df.drop(\"SALE_PRICE\", axis = 1),\n",
    "                                                    df[\"SALE_PRICE\"], random_state = 42,\n",
    "                                                    shuffle = True, train_size = .7)\n",
    "\n",
    "xscaler = StandardScaler()\n",
    "xscaler.fit(X_train)\n",
    "\n",
    "X_train = xscaler.transform(X_train)\n",
    "X_test = xscaler.transform(X_test)"
   ]
  },
  {
   "cell_type": "code",
   "execution_count": 298,
   "id": "5f69180b-76ec-4675-b0a2-c9ddccc5fa82",
   "metadata": {},
   "outputs": [
    {
     "name": "stdout",
     "output_type": "stream",
     "text": [
      "Best alpha: 0.01\n"
     ]
    }
   ],
   "source": [
    "# LINEAR REGRESSION\n",
    "lr_lasso = LassoCV(alphas = np.linspace(0.01, 2, 50),\n",
    "                   cv = 5, n_jobs = -1, random_state = 42)\n",
    "lr_lasso.fit(X_train, y_train)\n",
    "\n",
    "print(f\"Best alpha: {lr_lasso.alpha_}\")"
   ]
  },
  {
   "cell_type": "code",
   "execution_count": 312,
   "id": "8475f18d-4a77-498d-b11e-35dce340e9e0",
   "metadata": {},
   "outputs": [
    {
     "name": "stdout",
     "output_type": "stream",
     "text": [
      "MSE: 0.9815\n",
      "MAE: 0.7959\n",
      "MSE: 1708771804176744448.00 USD\n",
      "MAE: 16880787.30 USD\n",
      "MAPE: 17.78 %\n"
     ]
    }
   ],
   "source": [
    "print(\"MSE: {:.4f}\".format(mean_squared_error(y_test, lr_lasso.predict(X_test))))\n",
    "print(\"MAE: {:.4f}\".format(mean_absolute_error(y_test, lr_lasso.predict(X_test))))\n",
    "\n",
    "# With exponentiated values multiplied by 1e6\n",
    "print(\"MSE: {:.2f} USD\".format(mean_squared_error(np.exp(y_test)*1e6,\n",
    "                                                  np.exp(lr_lasso.predict(X_test))*1e6)))\n",
    "print(\"MAE: {:.2f} USD\".format(mean_absolute_error(np.exp(y_test)*1e6,\n",
    "                                                   np.exp(lr_lasso.predict(X_test))*1e6)))\n",
    "\n",
    "print(\"MAPE: {:.2f} %\".format(mean_absolute_percentage_error(np.exp(y_test)*1e6,\n",
    "                                                             np.exp(lr_lasso.predict(X_test))*1e6)))"
   ]
  },
  {
   "cell_type": "code",
   "execution_count": 300,
   "id": "c0eff611-703d-4d13-9e5a-6e6616019895",
   "metadata": {},
   "outputs": [
    {
     "data": {
      "image/png": "[encoded data removed]",
      "text/plain": [
       "<Figure size 1000x500 with 1 Axes>"
      ]
     },
     "metadata": {},
     "output_type": "display_data"
    }
   ],
   "source": [
    "plt.figure(figsize = (10, 5))\n",
    "plt.errorbar(lr_lasso.alphas_, lr_lasso.mse_path_.mean(axis = 1),\n",
    "             yerr = lr_lasso.mse_path_.std(axis = 1), fmt = \"o\", color = \"red\")\n",
    "plt.axvline(lr_lasso.alpha_, ls = \"--\", color = \"grey\")\n",
    "plt.title(\"CV loss\")\n",
    "plt.xlabel(\"$log(\\lambda)$\")\n",
    "plt.show()"
   ]
  },
  {
   "cell_type": "code",
   "execution_count": 317,
   "id": "b1a0792d-3de5-4939-8074-2d6e1ed44c06",
   "metadata": {},
   "outputs": [
    {
     "name": "stdout",
     "output_type": "stream",
     "text": [
      "Tree Train Accuracy: 0.0294\n",
      "\n"
     ]
    },
    {
     "data": {
      "image/png": "[encoded data removed]",
      "text/plain": [
       "<Figure size 640x480 with 1 Axes>"
      ]
     },
     "metadata": {},
     "output_type": "display_data"
    },
    {
     "name": "stdout",
     "output_type": "stream",
     "text": [
      "Fitting 3 folds for each of 5 candidates, totalling 15 fits\n",
      "MSE: 1.0665\n",
      "MAE: 0.7677\n",
      "MSE: 6393162719630.29 USD\n",
      "MAE: 1416053.33 USD\n",
      "MAPE: 1.20 %\n",
      "[CV 3/3; 2/5] START ccp_alpha=6.089113057749309e-05.............................\n",
      "[CV 3/3; 2/5] END ccp_alpha=6.089113057749309e-05;, score=(train=0.867, test=-0.261) total time=  10.4s\n",
      "[CV 2/3; 4/5] START ccp_alpha=0.00012108736080924601............................\n",
      "[CV 2/3; 4/5] END ccp_alpha=0.00012108736080924601;, score=(train=0.748, test=-0.143) total time=   9.3s\n",
      "[CV 1/3; 2/5] START ccp_alpha=6.089113057749309e-05.............................\n",
      "[CV 1/3; 2/5] END ccp_alpha=6.089113057749309e-05;, score=(train=0.870, test=-0.317) total time=  10.3s\n",
      "[CV 1/3; 4/5] START ccp_alpha=0.00012108736080924601............................\n",
      "[CV 1/3; 4/5] END ccp_alpha=0.00012108736080924601;, score=(train=0.754, test=-0.187) total time=   9.3s\n",
      "[CV 2/3; 2/5] START ccp_alpha=6.089113057749309e-05.............................\n",
      "[CV 2/3; 2/5] END ccp_alpha=6.089113057749309e-05;, score=(train=0.871, test=-0.258) total time=  10.9s\n",
      "[CV 3/3; 4/5] START ccp_alpha=0.00012108736080924601............................\n",
      "[CV 3/3; 4/5] END ccp_alpha=0.00012108736080924601;, score=(train=0.744, test=-0.133) total time=   9.2s\n",
      "[CV 1/3; 1/5] START ccp_alpha=2.2302359195158335e-05............................\n",
      "[CV 1/3; 1/5] END ccp_alpha=2.2302359195158335e-05;, score=(train=0.939, test=-0.397) total time=   9.6s\n",
      "[CV 3/3; 3/5] START ccp_alpha=9.268676795173711e-05.............................\n",
      "[CV 3/3; 3/5] END ccp_alpha=9.268676795173711e-05;, score=(train=0.804, test=-0.195) total time=   8.6s\n",
      "[CV 2/3; 5/5] START ccp_alpha=0.00015693353210927233............................\n",
      "[CV 2/3; 5/5] END ccp_alpha=0.00015693353210927233;, score=(train=0.665, test=-0.059) total time=   5.5s\n",
      "[CV 2/3; 1/5] START ccp_alpha=2.2302359195158335e-05............................\n",
      "[CV 2/3; 1/5] END ccp_alpha=2.2302359195158335e-05;, score=(train=0.939, test=-0.325) total time=   8.5s\n",
      "[CV 1/3; 3/5] START ccp_alpha=9.268676795173711e-05.............................\n",
      "[CV 1/3; 3/5] END ccp_alpha=9.268676795173711e-05;, score=(train=0.811, test=-0.254) total time=   9.0s\n",
      "[CV 1/3; 5/5] START ccp_alpha=0.00015693353210927233............................\n",
      "[CV 1/3; 5/5] END ccp_alpha=0.00015693353210927233;, score=(train=0.672, test=-0.102) total time=   6.8s\n",
      "[CV 3/3; 1/5] START ccp_alpha=2.2302359195158335e-05............................\n",
      "[CV 3/3; 1/5] END ccp_alpha=2.2302359195158335e-05;, score=(train=0.937, test=-0.332) total time=   9.3s\n",
      "[CV 2/3; 3/5] START ccp_alpha=9.268676795173711e-05.............................\n",
      "[CV 2/3; 3/5] END ccp_alpha=9.268676795173711e-05;, score=(train=0.813, test=-0.202) total time=   9.8s\n",
      "[CV 3/3; 5/5] START ccp_alpha=0.00015693353210927233............................\n",
      "[CV 3/3; 5/5] END ccp_alpha=0.00015693353210927233;, score=(train=0.670, test=-0.056) total time=   5.9s\n"
     ]
    }
   ],
   "source": [
    "# DECISION TREE\n",
    "tree = DecisionTreeRegressor(random_state = 101, criterion = \"squared_error\")\n",
    "tree.fit(X_train, y_train)\n",
    "print(\"Tree Train MSE: {:.4f}\\n\".format((mean_squared_error(y_train, tree.predict(X_train)))))\n",
    "\n",
    "# Compute impurities to look for an adequate pruning term\n",
    "path = tree.cost_complexity_pruning_path(X_train, y_train)\n",
    "ccp_alphas, impurities = path.ccp_alphas, path.impurities\n",
    "\n",
    "# Plot the impurity level given ccp_alpha\n",
    "plt.plot(ccp_alphas[:-1], impurities[:-1],\n",
    "         marker = \"o\", drawstyle = \"steps-post\")\n",
    "plt.xlabel(\"effective alpha\")\n",
    "plt.ylabel(\"total impurity of leaves\")\n",
    "plt.title(\"Total Impurity vs effective alpha for training set\")\n",
    "plt.show()\n",
    "\n",
    "# Tree Pruning (we are overfitting - Accuracy: 100% in training)\n",
    "tree_params = {\"ccp_alpha\":[ccp_alphas[impurities < impty].max()\n",
    "                            for impty in np.linspace(0.1, np.round(impurities.max()/2, 3),\n",
    "                                                     num = 5)]}\n",
    "\n",
    "tree_grid = GridSearchCV(DecisionTreeRegressor(random_state = 101, criterion = \"squared_error\"),\n",
    "                         tree_params, cv = 3, n_jobs = 6, verbose = 10,\n",
    "                         return_train_score = True)\n",
    "tree_grid.fit(X_train, y_train)\n",
    "\n",
    "# Show the results\n",
    "print(\"MSE: {:.4f}\".format(mean_squared_error(y_test, tree_grid.best_estimator_.predict(X_test))))\n",
    "print(\"MAE: {:.4f}\".format(mean_absolute_error(y_test, tree_grid.best_estimator_.predict(X_test))))\n",
    "\n",
    "# With exponentiated values multiplied by 1e6\n",
    "print(\"MSE: {:.2f} USD\"\\\n",
    "      .format(mean_squared_error(np.exp(y_test)*1e6,\n",
    "                                 np.exp(tree_grid.best_estimator_.predict(X_test))*1e6)))\n",
    "print(\"MAE: {:.2f} USD\"\\\n",
    "      .format(mean_absolute_error(np.exp(y_test)*1e6,\n",
    "                                  np.exp(tree_grid.best_estimator_.predict(X_test))*1e6)))\n",
    "\n",
    "print(\"MAPE: {:.2f} %\"\\\n",
    "      .format(mean_absolute_percentage_error(np.exp(y_test)*1e6,\n",
    "                                             np.exp(tree_grid.best_estimator_.predict(X_test))*1e6)))"
   ]
  },
  {
   "cell_type": "markdown",
   "id": "c8a350c4-d272-4a47-bc22-37f58de63204",
   "metadata": {},
   "source": [
    "---\n",
    "---\n",
    "---"
   ]
  }
 ],
 "metadata": {
  "environment": {
   "kernel": "python3",
   "name": "common-cpu.m108",
   "type": "gcloud",
   "uri": "gcr.io/deeplearning-platform-release/base-cpu:m108"
  },
  "kernelspec": {
   "display_name": "Python 3",
   "language": "python",
   "name": "python3"
  },
  "language_info": {
   "codemirror_mode": {
    "name": "ipython",
    "version": 3
   },
   "file_extension": ".py",
   "mimetype": "text/x-python",
   "name": "python",
   "nbconvert_exporter": "python",
   "pygments_lexer": "ipython3",
   "version": "3.7.12"
  }
 },
 "nbformat": 4,
 "nbformat_minor": 5
}
